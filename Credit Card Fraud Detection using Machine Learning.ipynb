{
 "cells": [
  {
   "cell_type": "markdown",
   "id": "fe9301b1",
   "metadata": {},
   "source": [
    "# Credit Card Fraud Detection using Machine Learning"
   ]
  },
  {
   "cell_type": "markdown",
   "id": "1efc1ff3",
   "metadata": {},
   "source": [
    "# Outline\n",
    "- [1 Data Preprocessing](#toc_15456_1)\n",
    "- [&nbsp;&nbsp; 1.1 Import necessary libraries ](#toc_15456_1.1)\n",
    "- [&nbsp;&nbsp;1.2 Load the dataset ](#toc_15456_1.2)\n",
    "- [&nbsp;&nbsp;1.3 Explore the dataset](#toc_15456_1.3)\n",
    "- [2 Preprocess the data](#toc_15456_2)\n",
    "- [3 Future scaling](#toc_15456_3)\n",
    "- [4 Splitting Dataset](#toc_15456_4)\n",
    "- [5 Model Implementation](#toc_15456_5)\n",
    "- [&nbsp;&nbsp;5.1 Train Logistic Regression model](#toc_15456_5.1)\n",
    "- [&nbsp;&nbsp;5.2 Train Random Forest model](#toc_15456_5.2)\n",
    "- [&nbsp;&nbsp;5.3  Train XGBoost model](#toc_15456_5.3)\n",
    "- [6 Model Evaluation](#toc_15456_6)\n",
    "- [&nbsp;&nbsp;6.1 Make predictions](#toc_15456_6.1)\n",
    "- [&nbsp;&nbsp;6.2 Evaluate models For Logistic Regression](#toc_15456_6.2)\n",
    "- [&nbsp;&nbsp;6.3 Evaluate models For Random Forests](#toc_15456_6.3)\n",
    "- [&nbsp;&nbsp;6.4 Evaluate models For XGBoost](#toc_15456_6.4)\n",
    "- [7 Comparing their Performance](#toc_15456_7)\n",
    "- [8 Make predictions](#toc_15456_8)\n",
    "- [9 Visualize the Feature Importances](#toc_15456_9)\n"
   ]
  },
  {
   "cell_type": "markdown",
   "id": "3d27145e",
   "metadata": {},
   "source": [
    "<a name=\"toc_15456_1\"></a>\n",
    "# 1 Data Preprocessing"
   ]
  },
  {
   "cell_type": "markdown",
   "id": "f8fd0351",
   "metadata": {},
   "source": [
    "<a name=\"toc_15456_1.1\"></a>\n",
    "### 1.1 Import necessary libraries "
   ]
  },
  {
   "cell_type": "code",
   "execution_count": 1,
   "id": "684d491a",
   "metadata": {},
   "outputs": [],
   "source": [
    "import pandas as pd\n",
    "import numpy as np"
   ]
  },
  {
   "cell_type": "markdown",
   "id": "d3ec000a",
   "metadata": {},
   "source": [
    "<a name=\"toc_15456_1.2\"></a>\n",
    "### 1.2 Load the dataset: "
     U can download the dataset from here - https://www.kaggle.com/datasets/mlg-ulb/creditcardfraud?select=creditcard.csv
   ]
  },
  {
   "cell_type": "code",
   "execution_count": 3,
   "id": "c233eaea",
   "metadata": {},
   "outputs": [],
   "source": [
    "df = pd.read_csv('creditcard (1).csv')"
   ]
  },
  {
   "cell_type": "markdown",
   "id": "408c0663",
   "metadata": {},
   "source": [
    "<a name=\"toc_15456_1.3\"></a>\n",
    "### 1.3 Explore the dataset"
   ]
  },
  {
   "cell_type": "code",
   "execution_count": 4,
   "id": "1d8b1739",
   "metadata": {},
   "outputs": [
    {
     "data": {
      "text/html": [
       "<div>\n",
       "<style scoped>\n",
       "    .dataframe tbody tr th:only-of-type {\n",
       "        vertical-align: middle;\n",
       "    }\n",
       "\n",
       "    .dataframe tbody tr th {\n",
       "        vertical-align: top;\n",
       "    }\n",
       "\n",
       "    .dataframe thead th {\n",
       "        text-align: right;\n",
       "    }\n",
       "</style>\n",
       "<table border=\"1\" class=\"dataframe\">\n",
       "  <thead>\n",
       "    <tr style=\"text-align: right;\">\n",
       "      <th></th>\n",
       "      <th>Time</th>\n",
       "      <th>V1</th>\n",
       "      <th>V2</th>\n",
       "      <th>V3</th>\n",
       "      <th>V4</th>\n",
       "      <th>V5</th>\n",
       "      <th>V6</th>\n",
       "      <th>V7</th>\n",
       "      <th>V8</th>\n",
       "      <th>V9</th>\n",
       "      <th>...</th>\n",
       "      <th>V21</th>\n",
       "      <th>V22</th>\n",
       "      <th>V23</th>\n",
       "      <th>V24</th>\n",
       "      <th>V25</th>\n",
       "      <th>V26</th>\n",
       "      <th>V27</th>\n",
       "      <th>V28</th>\n",
       "      <th>Amount</th>\n",
       "      <th>Class</th>\n",
       "    </tr>\n",
       "  </thead>\n",
       "  <tbody>\n",
       "    <tr>\n",
       "      <th>0</th>\n",
       "      <td>0.0</td>\n",
       "      <td>-1.359807</td>\n",
       "      <td>-0.072781</td>\n",
       "      <td>2.536347</td>\n",
       "      <td>1.378155</td>\n",
       "      <td>-0.338321</td>\n",
       "      <td>0.462388</td>\n",
       "      <td>0.239599</td>\n",
       "      <td>0.098698</td>\n",
       "      <td>0.363787</td>\n",
       "      <td>...</td>\n",
       "      <td>-0.018307</td>\n",
       "      <td>0.277838</td>\n",
       "      <td>-0.110474</td>\n",
       "      <td>0.066928</td>\n",
       "      <td>0.128539</td>\n",
       "      <td>-0.189115</td>\n",
       "      <td>0.133558</td>\n",
       "      <td>-0.021053</td>\n",
       "      <td>149.62</td>\n",
       "      <td>0</td>\n",
       "    </tr>\n",
       "    <tr>\n",
       "      <th>1</th>\n",
       "      <td>0.0</td>\n",
       "      <td>1.191857</td>\n",
       "      <td>0.266151</td>\n",
       "      <td>0.166480</td>\n",
       "      <td>0.448154</td>\n",
       "      <td>0.060018</td>\n",
       "      <td>-0.082361</td>\n",
       "      <td>-0.078803</td>\n",
       "      <td>0.085102</td>\n",
       "      <td>-0.255425</td>\n",
       "      <td>...</td>\n",
       "      <td>-0.225775</td>\n",
       "      <td>-0.638672</td>\n",
       "      <td>0.101288</td>\n",
       "      <td>-0.339846</td>\n",
       "      <td>0.167170</td>\n",
       "      <td>0.125895</td>\n",
       "      <td>-0.008983</td>\n",
       "      <td>0.014724</td>\n",
       "      <td>2.69</td>\n",
       "      <td>0</td>\n",
       "    </tr>\n",
       "    <tr>\n",
       "      <th>2</th>\n",
       "      <td>1.0</td>\n",
       "      <td>-1.358354</td>\n",
       "      <td>-1.340163</td>\n",
       "      <td>1.773209</td>\n",
       "      <td>0.379780</td>\n",
       "      <td>-0.503198</td>\n",
       "      <td>1.800499</td>\n",
       "      <td>0.791461</td>\n",
       "      <td>0.247676</td>\n",
       "      <td>-1.514654</td>\n",
       "      <td>...</td>\n",
       "      <td>0.247998</td>\n",
       "      <td>0.771679</td>\n",
       "      <td>0.909412</td>\n",
       "      <td>-0.689281</td>\n",
       "      <td>-0.327642</td>\n",
       "      <td>-0.139097</td>\n",
       "      <td>-0.055353</td>\n",
       "      <td>-0.059752</td>\n",
       "      <td>378.66</td>\n",
       "      <td>0</td>\n",
       "    </tr>\n",
       "    <tr>\n",
       "      <th>3</th>\n",
       "      <td>1.0</td>\n",
       "      <td>-0.966272</td>\n",
       "      <td>-0.185226</td>\n",
       "      <td>1.792993</td>\n",
       "      <td>-0.863291</td>\n",
       "      <td>-0.010309</td>\n",
       "      <td>1.247203</td>\n",
       "      <td>0.237609</td>\n",
       "      <td>0.377436</td>\n",
       "      <td>-1.387024</td>\n",
       "      <td>...</td>\n",
       "      <td>-0.108300</td>\n",
       "      <td>0.005274</td>\n",
       "      <td>-0.190321</td>\n",
       "      <td>-1.175575</td>\n",
       "      <td>0.647376</td>\n",
       "      <td>-0.221929</td>\n",
       "      <td>0.062723</td>\n",
       "      <td>0.061458</td>\n",
       "      <td>123.50</td>\n",
       "      <td>0</td>\n",
       "    </tr>\n",
       "    <tr>\n",
       "      <th>4</th>\n",
       "      <td>2.0</td>\n",
       "      <td>-1.158233</td>\n",
       "      <td>0.877737</td>\n",
       "      <td>1.548718</td>\n",
       "      <td>0.403034</td>\n",
       "      <td>-0.407193</td>\n",
       "      <td>0.095921</td>\n",
       "      <td>0.592941</td>\n",
       "      <td>-0.270533</td>\n",
       "      <td>0.817739</td>\n",
       "      <td>...</td>\n",
       "      <td>-0.009431</td>\n",
       "      <td>0.798278</td>\n",
       "      <td>-0.137458</td>\n",
       "      <td>0.141267</td>\n",
       "      <td>-0.206010</td>\n",
       "      <td>0.502292</td>\n",
       "      <td>0.219422</td>\n",
       "      <td>0.215153</td>\n",
       "      <td>69.99</td>\n",
       "      <td>0</td>\n",
       "    </tr>\n",
       "  </tbody>\n",
       "</table>\n",
       "<p>5 rows × 31 columns</p>\n",
       "</div>"
      ],
      "text/plain": [
       "   Time        V1        V2        V3        V4        V5        V6        V7  \\\n",
       "0   0.0 -1.359807 -0.072781  2.536347  1.378155 -0.338321  0.462388  0.239599   \n",
       "1   0.0  1.191857  0.266151  0.166480  0.448154  0.060018 -0.082361 -0.078803   \n",
       "2   1.0 -1.358354 -1.340163  1.773209  0.379780 -0.503198  1.800499  0.791461   \n",
       "3   1.0 -0.966272 -0.185226  1.792993 -0.863291 -0.010309  1.247203  0.237609   \n",
       "4   2.0 -1.158233  0.877737  1.548718  0.403034 -0.407193  0.095921  0.592941   \n",
       "\n",
       "         V8        V9  ...       V21       V22       V23       V24       V25  \\\n",
       "0  0.098698  0.363787  ... -0.018307  0.277838 -0.110474  0.066928  0.128539   \n",
       "1  0.085102 -0.255425  ... -0.225775 -0.638672  0.101288 -0.339846  0.167170   \n",
       "2  0.247676 -1.514654  ...  0.247998  0.771679  0.909412 -0.689281 -0.327642   \n",
       "3  0.377436 -1.387024  ... -0.108300  0.005274 -0.190321 -1.175575  0.647376   \n",
       "4 -0.270533  0.817739  ... -0.009431  0.798278 -0.137458  0.141267 -0.206010   \n",
       "\n",
       "        V26       V27       V28  Amount  Class  \n",
       "0 -0.189115  0.133558 -0.021053  149.62      0  \n",
       "1  0.125895 -0.008983  0.014724    2.69      0  \n",
       "2 -0.139097 -0.055353 -0.059752  378.66      0  \n",
       "3 -0.221929  0.062723  0.061458  123.50      0  \n",
       "4  0.502292  0.219422  0.215153   69.99      0  \n",
       "\n",
       "[5 rows x 31 columns]"
      ]
     },
     "execution_count": 4,
     "metadata": {},
     "output_type": "execute_result"
    }
   ],
   "source": [
    "df.head()"
   ]
  },
  {
   "cell_type": "code",
   "execution_count": 7,
   "id": "faf68a03",
   "metadata": {},
   "outputs": [
    {
     "data": {
      "text/html": [
       "<div>\n",
       "<style scoped>\n",
       "    .dataframe tbody tr th:only-of-type {\n",
       "        vertical-align: middle;\n",
       "    }\n",
       "\n",
       "    .dataframe tbody tr th {\n",
       "        vertical-align: top;\n",
       "    }\n",
       "\n",
       "    .dataframe thead th {\n",
       "        text-align: right;\n",
       "    }\n",
       "</style>\n",
       "<table border=\"1\" class=\"dataframe\">\n",
       "  <thead>\n",
       "    <tr style=\"text-align: right;\">\n",
       "      <th></th>\n",
       "      <th>Time</th>\n",
       "      <th>V1</th>\n",
       "      <th>V2</th>\n",
       "      <th>V3</th>\n",
       "      <th>V4</th>\n",
       "      <th>V5</th>\n",
       "      <th>V6</th>\n",
       "      <th>V7</th>\n",
       "      <th>V8</th>\n",
       "      <th>V9</th>\n",
       "      <th>...</th>\n",
       "      <th>V21</th>\n",
       "      <th>V22</th>\n",
       "      <th>V23</th>\n",
       "      <th>V24</th>\n",
       "      <th>V25</th>\n",
       "      <th>V26</th>\n",
       "      <th>V27</th>\n",
       "      <th>V28</th>\n",
       "      <th>Amount</th>\n",
       "      <th>Class</th>\n",
       "    </tr>\n",
       "  </thead>\n",
       "  <tbody>\n",
       "    <tr>\n",
       "      <th>284802</th>\n",
       "      <td>172786.0</td>\n",
       "      <td>-11.881118</td>\n",
       "      <td>10.071785</td>\n",
       "      <td>-9.834783</td>\n",
       "      <td>-2.066656</td>\n",
       "      <td>-5.364473</td>\n",
       "      <td>-2.606837</td>\n",
       "      <td>-4.918215</td>\n",
       "      <td>7.305334</td>\n",
       "      <td>1.914428</td>\n",
       "      <td>...</td>\n",
       "      <td>0.213454</td>\n",
       "      <td>0.111864</td>\n",
       "      <td>1.014480</td>\n",
       "      <td>-0.509348</td>\n",
       "      <td>1.436807</td>\n",
       "      <td>0.250034</td>\n",
       "      <td>0.943651</td>\n",
       "      <td>0.823731</td>\n",
       "      <td>0.77</td>\n",
       "      <td>0</td>\n",
       "    </tr>\n",
       "    <tr>\n",
       "      <th>284803</th>\n",
       "      <td>172787.0</td>\n",
       "      <td>-0.732789</td>\n",
       "      <td>-0.055080</td>\n",
       "      <td>2.035030</td>\n",
       "      <td>-0.738589</td>\n",
       "      <td>0.868229</td>\n",
       "      <td>1.058415</td>\n",
       "      <td>0.024330</td>\n",
       "      <td>0.294869</td>\n",
       "      <td>0.584800</td>\n",
       "      <td>...</td>\n",
       "      <td>0.214205</td>\n",
       "      <td>0.924384</td>\n",
       "      <td>0.012463</td>\n",
       "      <td>-1.016226</td>\n",
       "      <td>-0.606624</td>\n",
       "      <td>-0.395255</td>\n",
       "      <td>0.068472</td>\n",
       "      <td>-0.053527</td>\n",
       "      <td>24.79</td>\n",
       "      <td>0</td>\n",
       "    </tr>\n",
       "    <tr>\n",
       "      <th>284804</th>\n",
       "      <td>172788.0</td>\n",
       "      <td>1.919565</td>\n",
       "      <td>-0.301254</td>\n",
       "      <td>-3.249640</td>\n",
       "      <td>-0.557828</td>\n",
       "      <td>2.630515</td>\n",
       "      <td>3.031260</td>\n",
       "      <td>-0.296827</td>\n",
       "      <td>0.708417</td>\n",
       "      <td>0.432454</td>\n",
       "      <td>...</td>\n",
       "      <td>0.232045</td>\n",
       "      <td>0.578229</td>\n",
       "      <td>-0.037501</td>\n",
       "      <td>0.640134</td>\n",
       "      <td>0.265745</td>\n",
       "      <td>-0.087371</td>\n",
       "      <td>0.004455</td>\n",
       "      <td>-0.026561</td>\n",
       "      <td>67.88</td>\n",
       "      <td>0</td>\n",
       "    </tr>\n",
       "    <tr>\n",
       "      <th>284805</th>\n",
       "      <td>172788.0</td>\n",
       "      <td>-0.240440</td>\n",
       "      <td>0.530483</td>\n",
       "      <td>0.702510</td>\n",
       "      <td>0.689799</td>\n",
       "      <td>-0.377961</td>\n",
       "      <td>0.623708</td>\n",
       "      <td>-0.686180</td>\n",
       "      <td>0.679145</td>\n",
       "      <td>0.392087</td>\n",
       "      <td>...</td>\n",
       "      <td>0.265245</td>\n",
       "      <td>0.800049</td>\n",
       "      <td>-0.163298</td>\n",
       "      <td>0.123205</td>\n",
       "      <td>-0.569159</td>\n",
       "      <td>0.546668</td>\n",
       "      <td>0.108821</td>\n",
       "      <td>0.104533</td>\n",
       "      <td>10.00</td>\n",
       "      <td>0</td>\n",
       "    </tr>\n",
       "    <tr>\n",
       "      <th>284806</th>\n",
       "      <td>172792.0</td>\n",
       "      <td>-0.533413</td>\n",
       "      <td>-0.189733</td>\n",
       "      <td>0.703337</td>\n",
       "      <td>-0.506271</td>\n",
       "      <td>-0.012546</td>\n",
       "      <td>-0.649617</td>\n",
       "      <td>1.577006</td>\n",
       "      <td>-0.414650</td>\n",
       "      <td>0.486180</td>\n",
       "      <td>...</td>\n",
       "      <td>0.261057</td>\n",
       "      <td>0.643078</td>\n",
       "      <td>0.376777</td>\n",
       "      <td>0.008797</td>\n",
       "      <td>-0.473649</td>\n",
       "      <td>-0.818267</td>\n",
       "      <td>-0.002415</td>\n",
       "      <td>0.013649</td>\n",
       "      <td>217.00</td>\n",
       "      <td>0</td>\n",
       "    </tr>\n",
       "  </tbody>\n",
       "</table>\n",
       "<p>5 rows × 31 columns</p>\n",
       "</div>"
      ],
      "text/plain": [
       "            Time         V1         V2        V3        V4        V5  \\\n",
       "284802  172786.0 -11.881118  10.071785 -9.834783 -2.066656 -5.364473   \n",
       "284803  172787.0  -0.732789  -0.055080  2.035030 -0.738589  0.868229   \n",
       "284804  172788.0   1.919565  -0.301254 -3.249640 -0.557828  2.630515   \n",
       "284805  172788.0  -0.240440   0.530483  0.702510  0.689799 -0.377961   \n",
       "284806  172792.0  -0.533413  -0.189733  0.703337 -0.506271 -0.012546   \n",
       "\n",
       "              V6        V7        V8        V9  ...       V21       V22  \\\n",
       "284802 -2.606837 -4.918215  7.305334  1.914428  ...  0.213454  0.111864   \n",
       "284803  1.058415  0.024330  0.294869  0.584800  ...  0.214205  0.924384   \n",
       "284804  3.031260 -0.296827  0.708417  0.432454  ...  0.232045  0.578229   \n",
       "284805  0.623708 -0.686180  0.679145  0.392087  ...  0.265245  0.800049   \n",
       "284806 -0.649617  1.577006 -0.414650  0.486180  ...  0.261057  0.643078   \n",
       "\n",
       "             V23       V24       V25       V26       V27       V28  Amount  \\\n",
       "284802  1.014480 -0.509348  1.436807  0.250034  0.943651  0.823731    0.77   \n",
       "284803  0.012463 -1.016226 -0.606624 -0.395255  0.068472 -0.053527   24.79   \n",
       "284804 -0.037501  0.640134  0.265745 -0.087371  0.004455 -0.026561   67.88   \n",
       "284805 -0.163298  0.123205 -0.569159  0.546668  0.108821  0.104533   10.00   \n",
       "284806  0.376777  0.008797 -0.473649 -0.818267 -0.002415  0.013649  217.00   \n",
       "\n",
       "        Class  \n",
       "284802      0  \n",
       "284803      0  \n",
       "284804      0  \n",
       "284805      0  \n",
       "284806      0  \n",
       "\n",
       "[5 rows x 31 columns]"
      ]
     },
     "execution_count": 7,
     "metadata": {},
     "output_type": "execute_result"
    }
   ],
   "source": [
    "df.tail()"
   ]
  },
  {
   "cell_type": "code",
   "execution_count": 5,
   "id": "01cde099",
   "metadata": {},
   "outputs": [
    {
     "name": "stdout",
     "output_type": "stream",
     "text": [
      "<class 'pandas.core.frame.DataFrame'>\n",
      "RangeIndex: 284807 entries, 0 to 284806\n",
      "Data columns (total 31 columns):\n",
      " #   Column  Non-Null Count   Dtype  \n",
      "---  ------  --------------   -----  \n",
      " 0   Time    284807 non-null  float64\n",
      " 1   V1      284807 non-null  float64\n",
      " 2   V2      284807 non-null  float64\n",
      " 3   V3      284807 non-null  float64\n",
      " 4   V4      284807 non-null  float64\n",
      " 5   V5      284807 non-null  float64\n",
      " 6   V6      284807 non-null  float64\n",
      " 7   V7      284807 non-null  float64\n",
      " 8   V8      284807 non-null  float64\n",
      " 9   V9      284807 non-null  float64\n",
      " 10  V10     284807 non-null  float64\n",
      " 11  V11     284807 non-null  float64\n",
      " 12  V12     284807 non-null  float64\n",
      " 13  V13     284807 non-null  float64\n",
      " 14  V14     284807 non-null  float64\n",
      " 15  V15     284807 non-null  float64\n",
      " 16  V16     284807 non-null  float64\n",
      " 17  V17     284807 non-null  float64\n",
      " 18  V18     284807 non-null  float64\n",
      " 19  V19     284807 non-null  float64\n",
      " 20  V20     284807 non-null  float64\n",
      " 21  V21     284807 non-null  float64\n",
      " 22  V22     284807 non-null  float64\n",
      " 23  V23     284807 non-null  float64\n",
      " 24  V24     284807 non-null  float64\n",
      " 25  V25     284807 non-null  float64\n",
      " 26  V26     284807 non-null  float64\n",
      " 27  V27     284807 non-null  float64\n",
      " 28  V28     284807 non-null  float64\n",
      " 29  Amount  284807 non-null  float64\n",
      " 30  Class   284807 non-null  int64  \n",
      "dtypes: float64(30), int64(1)\n",
      "memory usage: 67.4 MB\n"
     ]
    }
   ],
   "source": [
    "df.info()"
   ]
  },
  {
   "cell_type": "code",
   "execution_count": 6,
   "id": "f446d3e4",
   "metadata": {},
   "outputs": [
    {
     "data": {
      "text/html": [
       "<div>\n",
       "<style scoped>\n",
       "    .dataframe tbody tr th:only-of-type {\n",
       "        vertical-align: middle;\n",
       "    }\n",
       "\n",
       "    .dataframe tbody tr th {\n",
       "        vertical-align: top;\n",
       "    }\n",
       "\n",
       "    .dataframe thead th {\n",
       "        text-align: right;\n",
       "    }\n",
       "</style>\n",
       "<table border=\"1\" class=\"dataframe\">\n",
       "  <thead>\n",
       "    <tr style=\"text-align: right;\">\n",
       "      <th></th>\n",
       "      <th>Time</th>\n",
       "      <th>V1</th>\n",
       "      <th>V2</th>\n",
       "      <th>V3</th>\n",
       "      <th>V4</th>\n",
       "      <th>V5</th>\n",
       "      <th>V6</th>\n",
       "      <th>V7</th>\n",
       "      <th>V8</th>\n",
       "      <th>V9</th>\n",
       "      <th>...</th>\n",
       "      <th>V21</th>\n",
       "      <th>V22</th>\n",
       "      <th>V23</th>\n",
       "      <th>V24</th>\n",
       "      <th>V25</th>\n",
       "      <th>V26</th>\n",
       "      <th>V27</th>\n",
       "      <th>V28</th>\n",
       "      <th>Amount</th>\n",
       "      <th>Class</th>\n",
       "    </tr>\n",
       "  </thead>\n",
       "  <tbody>\n",
       "    <tr>\n",
       "      <th>count</th>\n",
       "      <td>284807.000000</td>\n",
       "      <td>2.848070e+05</td>\n",
       "      <td>2.848070e+05</td>\n",
       "      <td>2.848070e+05</td>\n",
       "      <td>2.848070e+05</td>\n",
       "      <td>2.848070e+05</td>\n",
       "      <td>2.848070e+05</td>\n",
       "      <td>2.848070e+05</td>\n",
       "      <td>2.848070e+05</td>\n",
       "      <td>2.848070e+05</td>\n",
       "      <td>...</td>\n",
       "      <td>2.848070e+05</td>\n",
       "      <td>2.848070e+05</td>\n",
       "      <td>2.848070e+05</td>\n",
       "      <td>2.848070e+05</td>\n",
       "      <td>2.848070e+05</td>\n",
       "      <td>2.848070e+05</td>\n",
       "      <td>2.848070e+05</td>\n",
       "      <td>2.848070e+05</td>\n",
       "      <td>284807.000000</td>\n",
       "      <td>284807.000000</td>\n",
       "    </tr>\n",
       "    <tr>\n",
       "      <th>mean</th>\n",
       "      <td>94813.859575</td>\n",
       "      <td>1.168375e-15</td>\n",
       "      <td>3.416908e-16</td>\n",
       "      <td>-1.379537e-15</td>\n",
       "      <td>2.074095e-15</td>\n",
       "      <td>9.604066e-16</td>\n",
       "      <td>1.487313e-15</td>\n",
       "      <td>-5.556467e-16</td>\n",
       "      <td>1.213481e-16</td>\n",
       "      <td>-2.406331e-15</td>\n",
       "      <td>...</td>\n",
       "      <td>1.654067e-16</td>\n",
       "      <td>-3.568593e-16</td>\n",
       "      <td>2.578648e-16</td>\n",
       "      <td>4.473266e-15</td>\n",
       "      <td>5.340915e-16</td>\n",
       "      <td>1.683437e-15</td>\n",
       "      <td>-3.660091e-16</td>\n",
       "      <td>-1.227390e-16</td>\n",
       "      <td>88.349619</td>\n",
       "      <td>0.001727</td>\n",
       "    </tr>\n",
       "    <tr>\n",
       "      <th>std</th>\n",
       "      <td>47488.145955</td>\n",
       "      <td>1.958696e+00</td>\n",
       "      <td>1.651309e+00</td>\n",
       "      <td>1.516255e+00</td>\n",
       "      <td>1.415869e+00</td>\n",
       "      <td>1.380247e+00</td>\n",
       "      <td>1.332271e+00</td>\n",
       "      <td>1.237094e+00</td>\n",
       "      <td>1.194353e+00</td>\n",
       "      <td>1.098632e+00</td>\n",
       "      <td>...</td>\n",
       "      <td>7.345240e-01</td>\n",
       "      <td>7.257016e-01</td>\n",
       "      <td>6.244603e-01</td>\n",
       "      <td>6.056471e-01</td>\n",
       "      <td>5.212781e-01</td>\n",
       "      <td>4.822270e-01</td>\n",
       "      <td>4.036325e-01</td>\n",
       "      <td>3.300833e-01</td>\n",
       "      <td>250.120109</td>\n",
       "      <td>0.041527</td>\n",
       "    </tr>\n",
       "    <tr>\n",
       "      <th>min</th>\n",
       "      <td>0.000000</td>\n",
       "      <td>-5.640751e+01</td>\n",
       "      <td>-7.271573e+01</td>\n",
       "      <td>-4.832559e+01</td>\n",
       "      <td>-5.683171e+00</td>\n",
       "      <td>-1.137433e+02</td>\n",
       "      <td>-2.616051e+01</td>\n",
       "      <td>-4.355724e+01</td>\n",
       "      <td>-7.321672e+01</td>\n",
       "      <td>-1.343407e+01</td>\n",
       "      <td>...</td>\n",
       "      <td>-3.483038e+01</td>\n",
       "      <td>-1.093314e+01</td>\n",
       "      <td>-4.480774e+01</td>\n",
       "      <td>-2.836627e+00</td>\n",
       "      <td>-1.029540e+01</td>\n",
       "      <td>-2.604551e+00</td>\n",
       "      <td>-2.256568e+01</td>\n",
       "      <td>-1.543008e+01</td>\n",
       "      <td>0.000000</td>\n",
       "      <td>0.000000</td>\n",
       "    </tr>\n",
       "    <tr>\n",
       "      <th>25%</th>\n",
       "      <td>54201.500000</td>\n",
       "      <td>-9.203734e-01</td>\n",
       "      <td>-5.985499e-01</td>\n",
       "      <td>-8.903648e-01</td>\n",
       "      <td>-8.486401e-01</td>\n",
       "      <td>-6.915971e-01</td>\n",
       "      <td>-7.682956e-01</td>\n",
       "      <td>-5.540759e-01</td>\n",
       "      <td>-2.086297e-01</td>\n",
       "      <td>-6.430976e-01</td>\n",
       "      <td>...</td>\n",
       "      <td>-2.283949e-01</td>\n",
       "      <td>-5.423504e-01</td>\n",
       "      <td>-1.618463e-01</td>\n",
       "      <td>-3.545861e-01</td>\n",
       "      <td>-3.171451e-01</td>\n",
       "      <td>-3.269839e-01</td>\n",
       "      <td>-7.083953e-02</td>\n",
       "      <td>-5.295979e-02</td>\n",
       "      <td>5.600000</td>\n",
       "      <td>0.000000</td>\n",
       "    </tr>\n",
       "    <tr>\n",
       "      <th>50%</th>\n",
       "      <td>84692.000000</td>\n",
       "      <td>1.810880e-02</td>\n",
       "      <td>6.548556e-02</td>\n",
       "      <td>1.798463e-01</td>\n",
       "      <td>-1.984653e-02</td>\n",
       "      <td>-5.433583e-02</td>\n",
       "      <td>-2.741871e-01</td>\n",
       "      <td>4.010308e-02</td>\n",
       "      <td>2.235804e-02</td>\n",
       "      <td>-5.142873e-02</td>\n",
       "      <td>...</td>\n",
       "      <td>-2.945017e-02</td>\n",
       "      <td>6.781943e-03</td>\n",
       "      <td>-1.119293e-02</td>\n",
       "      <td>4.097606e-02</td>\n",
       "      <td>1.659350e-02</td>\n",
       "      <td>-5.213911e-02</td>\n",
       "      <td>1.342146e-03</td>\n",
       "      <td>1.124383e-02</td>\n",
       "      <td>22.000000</td>\n",
       "      <td>0.000000</td>\n",
       "    </tr>\n",
       "    <tr>\n",
       "      <th>75%</th>\n",
       "      <td>139320.500000</td>\n",
       "      <td>1.315642e+00</td>\n",
       "      <td>8.037239e-01</td>\n",
       "      <td>1.027196e+00</td>\n",
       "      <td>7.433413e-01</td>\n",
       "      <td>6.119264e-01</td>\n",
       "      <td>3.985649e-01</td>\n",
       "      <td>5.704361e-01</td>\n",
       "      <td>3.273459e-01</td>\n",
       "      <td>5.971390e-01</td>\n",
       "      <td>...</td>\n",
       "      <td>1.863772e-01</td>\n",
       "      <td>5.285536e-01</td>\n",
       "      <td>1.476421e-01</td>\n",
       "      <td>4.395266e-01</td>\n",
       "      <td>3.507156e-01</td>\n",
       "      <td>2.409522e-01</td>\n",
       "      <td>9.104512e-02</td>\n",
       "      <td>7.827995e-02</td>\n",
       "      <td>77.165000</td>\n",
       "      <td>0.000000</td>\n",
       "    </tr>\n",
       "    <tr>\n",
       "      <th>max</th>\n",
       "      <td>172792.000000</td>\n",
       "      <td>2.454930e+00</td>\n",
       "      <td>2.205773e+01</td>\n",
       "      <td>9.382558e+00</td>\n",
       "      <td>1.687534e+01</td>\n",
       "      <td>3.480167e+01</td>\n",
       "      <td>7.330163e+01</td>\n",
       "      <td>1.205895e+02</td>\n",
       "      <td>2.000721e+01</td>\n",
       "      <td>1.559499e+01</td>\n",
       "      <td>...</td>\n",
       "      <td>2.720284e+01</td>\n",
       "      <td>1.050309e+01</td>\n",
       "      <td>2.252841e+01</td>\n",
       "      <td>4.584549e+00</td>\n",
       "      <td>7.519589e+00</td>\n",
       "      <td>3.517346e+00</td>\n",
       "      <td>3.161220e+01</td>\n",
       "      <td>3.384781e+01</td>\n",
       "      <td>25691.160000</td>\n",
       "      <td>1.000000</td>\n",
       "    </tr>\n",
       "  </tbody>\n",
       "</table>\n",
       "<p>8 rows × 31 columns</p>\n",
       "</div>"
      ],
      "text/plain": [
       "                Time            V1            V2            V3            V4  \\\n",
       "count  284807.000000  2.848070e+05  2.848070e+05  2.848070e+05  2.848070e+05   \n",
       "mean    94813.859575  1.168375e-15  3.416908e-16 -1.379537e-15  2.074095e-15   \n",
       "std     47488.145955  1.958696e+00  1.651309e+00  1.516255e+00  1.415869e+00   \n",
       "min         0.000000 -5.640751e+01 -7.271573e+01 -4.832559e+01 -5.683171e+00   \n",
       "25%     54201.500000 -9.203734e-01 -5.985499e-01 -8.903648e-01 -8.486401e-01   \n",
       "50%     84692.000000  1.810880e-02  6.548556e-02  1.798463e-01 -1.984653e-02   \n",
       "75%    139320.500000  1.315642e+00  8.037239e-01  1.027196e+00  7.433413e-01   \n",
       "max    172792.000000  2.454930e+00  2.205773e+01  9.382558e+00  1.687534e+01   \n",
       "\n",
       "                 V5            V6            V7            V8            V9  \\\n",
       "count  2.848070e+05  2.848070e+05  2.848070e+05  2.848070e+05  2.848070e+05   \n",
       "mean   9.604066e-16  1.487313e-15 -5.556467e-16  1.213481e-16 -2.406331e-15   \n",
       "std    1.380247e+00  1.332271e+00  1.237094e+00  1.194353e+00  1.098632e+00   \n",
       "min   -1.137433e+02 -2.616051e+01 -4.355724e+01 -7.321672e+01 -1.343407e+01   \n",
       "25%   -6.915971e-01 -7.682956e-01 -5.540759e-01 -2.086297e-01 -6.430976e-01   \n",
       "50%   -5.433583e-02 -2.741871e-01  4.010308e-02  2.235804e-02 -5.142873e-02   \n",
       "75%    6.119264e-01  3.985649e-01  5.704361e-01  3.273459e-01  5.971390e-01   \n",
       "max    3.480167e+01  7.330163e+01  1.205895e+02  2.000721e+01  1.559499e+01   \n",
       "\n",
       "       ...           V21           V22           V23           V24  \\\n",
       "count  ...  2.848070e+05  2.848070e+05  2.848070e+05  2.848070e+05   \n",
       "mean   ...  1.654067e-16 -3.568593e-16  2.578648e-16  4.473266e-15   \n",
       "std    ...  7.345240e-01  7.257016e-01  6.244603e-01  6.056471e-01   \n",
       "min    ... -3.483038e+01 -1.093314e+01 -4.480774e+01 -2.836627e+00   \n",
       "25%    ... -2.283949e-01 -5.423504e-01 -1.618463e-01 -3.545861e-01   \n",
       "50%    ... -2.945017e-02  6.781943e-03 -1.119293e-02  4.097606e-02   \n",
       "75%    ...  1.863772e-01  5.285536e-01  1.476421e-01  4.395266e-01   \n",
       "max    ...  2.720284e+01  1.050309e+01  2.252841e+01  4.584549e+00   \n",
       "\n",
       "                V25           V26           V27           V28         Amount  \\\n",
       "count  2.848070e+05  2.848070e+05  2.848070e+05  2.848070e+05  284807.000000   \n",
       "mean   5.340915e-16  1.683437e-15 -3.660091e-16 -1.227390e-16      88.349619   \n",
       "std    5.212781e-01  4.822270e-01  4.036325e-01  3.300833e-01     250.120109   \n",
       "min   -1.029540e+01 -2.604551e+00 -2.256568e+01 -1.543008e+01       0.000000   \n",
       "25%   -3.171451e-01 -3.269839e-01 -7.083953e-02 -5.295979e-02       5.600000   \n",
       "50%    1.659350e-02 -5.213911e-02  1.342146e-03  1.124383e-02      22.000000   \n",
       "75%    3.507156e-01  2.409522e-01  9.104512e-02  7.827995e-02      77.165000   \n",
       "max    7.519589e+00  3.517346e+00  3.161220e+01  3.384781e+01   25691.160000   \n",
       "\n",
       "               Class  \n",
       "count  284807.000000  \n",
       "mean        0.001727  \n",
       "std         0.041527  \n",
       "min         0.000000  \n",
       "25%         0.000000  \n",
       "50%         0.000000  \n",
       "75%         0.000000  \n",
       "max         1.000000  \n",
       "\n",
       "[8 rows x 31 columns]"
      ]
     },
     "execution_count": 6,
     "metadata": {},
     "output_type": "execute_result"
    }
   ],
   "source": [
    "df.describe()"
   ]
  },
  {
   "cell_type": "markdown",
   "id": "7a3cdcbc",
   "metadata": {},
   "source": [
    "<a name=\"toc_15456_2\"></a>\n",
    "## 2 Preprocess the data\n",
    "\n",
    "### Check for missing values:\n"
   ]
  },
  {
   "cell_type": "code",
   "execution_count": 9,
   "id": "f58cd944",
   "metadata": {},
   "outputs": [
    {
     "name": "stdout",
     "output_type": "stream",
     "text": [
      "Time      0\n",
      "V1        0\n",
      "V2        0\n",
      "V3        0\n",
      "V4        0\n",
      "V5        0\n",
      "V6        0\n",
      "V7        0\n",
      "V8        0\n",
      "V9        0\n",
      "V10       0\n",
      "V11       0\n",
      "V12       0\n",
      "V13       0\n",
      "V14       0\n",
      "V15       0\n",
      "V16       0\n",
      "V17       0\n",
      "V18       0\n",
      "V19       0\n",
      "V20       0\n",
      "V21       0\n",
      "V22       0\n",
      "V23       0\n",
      "V24       0\n",
      "V25       0\n",
      "V26       0\n",
      "V27       0\n",
      "V28       0\n",
      "Amount    0\n",
      "Class     0\n",
      "dtype: int64\n"
     ]
    }
   ],
   "source": [
    "missing_values = df.isnull().sum()\n",
    "print(missing_values)"
   ]
  },
  {
   "cell_type": "markdown",
   "id": "0ec7c124",
   "metadata": {},
   "source": [
    "It appears that there are no missing values in the dataset, as the count of missing values for each column is 0."
   ]
  },
  {
   "cell_type": "markdown",
   "id": "51912f97",
   "metadata": {},
   "source": [
    "<a name=\"toc_15456_3\"></a>\n",
    "## 3 Future scaling"
   ]
  },
  {
   "cell_type": "code",
   "execution_count": 12,
   "id": "c33764b0",
   "metadata": {},
   "outputs": [],
   "source": [
    "from sklearn.preprocessing import StandardScaler\n",
    "\n",
    "# Define the features and target variable\n",
    "X = df.drop('Class', axis=1)\n",
    "y = df['Class']"
   ]
  },
  {
   "cell_type": "code",
   "execution_count": 13,
   "id": "1539d919",
   "metadata": {},
   "outputs": [],
   "source": [
    "# Scale the data\n",
    "scaler = StandardScaler()\n",
    "X_scaled = scaler.fit_transform(X)"
   ]
  },
  {
   "cell_type": "code",
   "execution_count": 14,
   "id": "e6137be7",
   "metadata": {},
   "outputs": [],
   "source": [
    "# Convert the scaled data back to a DataFrame\n",
    "X_scaled = pd.DataFrame(X_scaled, columns=X.columns)"
   ]
  },
  {
   "cell_type": "markdown",
   "id": "79033c02",
   "metadata": {},
   "source": [
    "<a name=\"toc_15456_4\"></a>\n",
    "## 4 Splitting Dataset "
   ]
  },
  {
   "cell_type": "markdown",
   "id": "d9d56608",
   "metadata": {},
   "source": [
    "#### Splitting Dataset into training and testing sets"
   ]
  },
  {
   "cell_type": "code",
   "execution_count": 15,
   "id": "e6bd66ac",
   "metadata": {},
   "outputs": [],
   "source": [
    "from sklearn.model_selection import train_test_split\n",
    "# Split the data into training and testing sets\n",
    "X_train, X_test, y_train, y_test = train_test_split(X_scaled, y, test_size=0.2, random_state=42)"
   ]
  },
  {
   "cell_type": "markdown",
   "id": "cea032d4",
   "metadata": {},
   "source": [
    "#### Now we have Splitted the data into training (80%) and testing sets (20%)"
   ]
  },
  {
   "cell_type": "markdown",
   "id": "ec879010",
   "metadata": {},
   "source": [
    "<a name=\"toc_15456_5\"></a>\n",
    "## 5 Model Implementation"
   ]
  },
  {
   "cell_type": "markdown",
   "id": "dcb0c23e",
   "metadata": {},
   "source": [
    "<a name=\"toc_15456_5.1\"></a>\n",
    "### 5.1 Train Logistic Regression model"
   ]
  },
  {
   "cell_type": "code",
   "execution_count": 16,
   "id": "8990445d",
   "metadata": {},
   "outputs": [
    {
     "data": {
      "text/html": [
       "<style>#sk-container-id-1 {color: black;background-color: white;}#sk-container-id-1 pre{padding: 0;}#sk-container-id-1 div.sk-toggleable {background-color: white;}#sk-container-id-1 label.sk-toggleable__label {cursor: pointer;display: block;width: 100%;margin-bottom: 0;padding: 0.3em;box-sizing: border-box;text-align: center;}#sk-container-id-1 label.sk-toggleable__label-arrow:before {content: \"▸\";float: left;margin-right: 0.25em;color: #696969;}#sk-container-id-1 label.sk-toggleable__label-arrow:hover:before {color: black;}#sk-container-id-1 div.sk-estimator:hover label.sk-toggleable__label-arrow:before {color: black;}#sk-container-id-1 div.sk-toggleable__content {max-height: 0;max-width: 0;overflow: hidden;text-align: left;background-color: #f0f8ff;}#sk-container-id-1 div.sk-toggleable__content pre {margin: 0.2em;color: black;border-radius: 0.25em;background-color: #f0f8ff;}#sk-container-id-1 input.sk-toggleable__control:checked~div.sk-toggleable__content {max-height: 200px;max-width: 100%;overflow: auto;}#sk-container-id-1 input.sk-toggleable__control:checked~label.sk-toggleable__label-arrow:before {content: \"▾\";}#sk-container-id-1 div.sk-estimator input.sk-toggleable__control:checked~label.sk-toggleable__label {background-color: #d4ebff;}#sk-container-id-1 div.sk-label input.sk-toggleable__control:checked~label.sk-toggleable__label {background-color: #d4ebff;}#sk-container-id-1 input.sk-hidden--visually {border: 0;clip: rect(1px 1px 1px 1px);clip: rect(1px, 1px, 1px, 1px);height: 1px;margin: -1px;overflow: hidden;padding: 0;position: absolute;width: 1px;}#sk-container-id-1 div.sk-estimator {font-family: monospace;background-color: #f0f8ff;border: 1px dotted black;border-radius: 0.25em;box-sizing: border-box;margin-bottom: 0.5em;}#sk-container-id-1 div.sk-estimator:hover {background-color: #d4ebff;}#sk-container-id-1 div.sk-parallel-item::after {content: \"\";width: 100%;border-bottom: 1px solid gray;flex-grow: 1;}#sk-container-id-1 div.sk-label:hover label.sk-toggleable__label {background-color: #d4ebff;}#sk-container-id-1 div.sk-serial::before {content: \"\";position: absolute;border-left: 1px solid gray;box-sizing: border-box;top: 0;bottom: 0;left: 50%;z-index: 0;}#sk-container-id-1 div.sk-serial {display: flex;flex-direction: column;align-items: center;background-color: white;padding-right: 0.2em;padding-left: 0.2em;position: relative;}#sk-container-id-1 div.sk-item {position: relative;z-index: 1;}#sk-container-id-1 div.sk-parallel {display: flex;align-items: stretch;justify-content: center;background-color: white;position: relative;}#sk-container-id-1 div.sk-item::before, #sk-container-id-1 div.sk-parallel-item::before {content: \"\";position: absolute;border-left: 1px solid gray;box-sizing: border-box;top: 0;bottom: 0;left: 50%;z-index: -1;}#sk-container-id-1 div.sk-parallel-item {display: flex;flex-direction: column;z-index: 1;position: relative;background-color: white;}#sk-container-id-1 div.sk-parallel-item:first-child::after {align-self: flex-end;width: 50%;}#sk-container-id-1 div.sk-parallel-item:last-child::after {align-self: flex-start;width: 50%;}#sk-container-id-1 div.sk-parallel-item:only-child::after {width: 0;}#sk-container-id-1 div.sk-dashed-wrapped {border: 1px dashed gray;margin: 0 0.4em 0.5em 0.4em;box-sizing: border-box;padding-bottom: 0.4em;background-color: white;}#sk-container-id-1 div.sk-label label {font-family: monospace;font-weight: bold;display: inline-block;line-height: 1.2em;}#sk-container-id-1 div.sk-label-container {text-align: center;}#sk-container-id-1 div.sk-container {/* jupyter's `normalize.less` sets `[hidden] { display: none; }` but bootstrap.min.css set `[hidden] { display: none !important; }` so we also need the `!important` here to be able to override the default hidden behavior on the sphinx rendered scikit-learn.org. See: https://github.com/scikit-learn/scikit-learn/issues/21755 */display: inline-block !important;position: relative;}#sk-container-id-1 div.sk-text-repr-fallback {display: none;}</style><div id=\"sk-container-id-1\" class=\"sk-top-container\"><div class=\"sk-text-repr-fallback\"><pre>LogisticRegression()</pre><b>In a Jupyter environment, please rerun this cell to show the HTML representation or trust the notebook. <br />On GitHub, the HTML representation is unable to render, please try loading this page with nbviewer.org.</b></div><div class=\"sk-container\" hidden><div class=\"sk-item\"><div class=\"sk-estimator sk-toggleable\"><input class=\"sk-toggleable__control sk-hidden--visually\" id=\"sk-estimator-id-1\" type=\"checkbox\" checked><label for=\"sk-estimator-id-1\" class=\"sk-toggleable__label sk-toggleable__label-arrow\">LogisticRegression</label><div class=\"sk-toggleable__content\"><pre>LogisticRegression()</pre></div></div></div></div></div>"
      ],
      "text/plain": [
       "LogisticRegression()"
      ]
     },
     "execution_count": 16,
     "metadata": {},
     "output_type": "execute_result"
    }
   ],
   "source": [
    "from sklearn.linear_model import LogisticRegression\n",
    "logreg = LogisticRegression()\n",
    "logreg.fit(X_train, y_train)"
   ]
  },
  {
   "cell_type": "markdown",
   "id": "ff24b27c",
   "metadata": {},
   "source": [
    "<a name=\"toc_15456_5.2\"></a>\n",
    "### 5.2 Train Random Forest model"
   ]
  },
  {
   "cell_type": "code",
   "execution_count": 17,
   "id": "8804c57a",
   "metadata": {},
   "outputs": [
    {
     "data": {
      "text/html": [
       "<style>#sk-container-id-2 {color: black;background-color: white;}#sk-container-id-2 pre{padding: 0;}#sk-container-id-2 div.sk-toggleable {background-color: white;}#sk-container-id-2 label.sk-toggleable__label {cursor: pointer;display: block;width: 100%;margin-bottom: 0;padding: 0.3em;box-sizing: border-box;text-align: center;}#sk-container-id-2 label.sk-toggleable__label-arrow:before {content: \"▸\";float: left;margin-right: 0.25em;color: #696969;}#sk-container-id-2 label.sk-toggleable__label-arrow:hover:before {color: black;}#sk-container-id-2 div.sk-estimator:hover label.sk-toggleable__label-arrow:before {color: black;}#sk-container-id-2 div.sk-toggleable__content {max-height: 0;max-width: 0;overflow: hidden;text-align: left;background-color: #f0f8ff;}#sk-container-id-2 div.sk-toggleable__content pre {margin: 0.2em;color: black;border-radius: 0.25em;background-color: #f0f8ff;}#sk-container-id-2 input.sk-toggleable__control:checked~div.sk-toggleable__content {max-height: 200px;max-width: 100%;overflow: auto;}#sk-container-id-2 input.sk-toggleable__control:checked~label.sk-toggleable__label-arrow:before {content: \"▾\";}#sk-container-id-2 div.sk-estimator input.sk-toggleable__control:checked~label.sk-toggleable__label {background-color: #d4ebff;}#sk-container-id-2 div.sk-label input.sk-toggleable__control:checked~label.sk-toggleable__label {background-color: #d4ebff;}#sk-container-id-2 input.sk-hidden--visually {border: 0;clip: rect(1px 1px 1px 1px);clip: rect(1px, 1px, 1px, 1px);height: 1px;margin: -1px;overflow: hidden;padding: 0;position: absolute;width: 1px;}#sk-container-id-2 div.sk-estimator {font-family: monospace;background-color: #f0f8ff;border: 1px dotted black;border-radius: 0.25em;box-sizing: border-box;margin-bottom: 0.5em;}#sk-container-id-2 div.sk-estimator:hover {background-color: #d4ebff;}#sk-container-id-2 div.sk-parallel-item::after {content: \"\";width: 100%;border-bottom: 1px solid gray;flex-grow: 1;}#sk-container-id-2 div.sk-label:hover label.sk-toggleable__label {background-color: #d4ebff;}#sk-container-id-2 div.sk-serial::before {content: \"\";position: absolute;border-left: 1px solid gray;box-sizing: border-box;top: 0;bottom: 0;left: 50%;z-index: 0;}#sk-container-id-2 div.sk-serial {display: flex;flex-direction: column;align-items: center;background-color: white;padding-right: 0.2em;padding-left: 0.2em;position: relative;}#sk-container-id-2 div.sk-item {position: relative;z-index: 1;}#sk-container-id-2 div.sk-parallel {display: flex;align-items: stretch;justify-content: center;background-color: white;position: relative;}#sk-container-id-2 div.sk-item::before, #sk-container-id-2 div.sk-parallel-item::before {content: \"\";position: absolute;border-left: 1px solid gray;box-sizing: border-box;top: 0;bottom: 0;left: 50%;z-index: -1;}#sk-container-id-2 div.sk-parallel-item {display: flex;flex-direction: column;z-index: 1;position: relative;background-color: white;}#sk-container-id-2 div.sk-parallel-item:first-child::after {align-self: flex-end;width: 50%;}#sk-container-id-2 div.sk-parallel-item:last-child::after {align-self: flex-start;width: 50%;}#sk-container-id-2 div.sk-parallel-item:only-child::after {width: 0;}#sk-container-id-2 div.sk-dashed-wrapped {border: 1px dashed gray;margin: 0 0.4em 0.5em 0.4em;box-sizing: border-box;padding-bottom: 0.4em;background-color: white;}#sk-container-id-2 div.sk-label label {font-family: monospace;font-weight: bold;display: inline-block;line-height: 1.2em;}#sk-container-id-2 div.sk-label-container {text-align: center;}#sk-container-id-2 div.sk-container {/* jupyter's `normalize.less` sets `[hidden] { display: none; }` but bootstrap.min.css set `[hidden] { display: none !important; }` so we also need the `!important` here to be able to override the default hidden behavior on the sphinx rendered scikit-learn.org. See: https://github.com/scikit-learn/scikit-learn/issues/21755 */display: inline-block !important;position: relative;}#sk-container-id-2 div.sk-text-repr-fallback {display: none;}</style><div id=\"sk-container-id-2\" class=\"sk-top-container\"><div class=\"sk-text-repr-fallback\"><pre>RandomForestClassifier()</pre><b>In a Jupyter environment, please rerun this cell to show the HTML representation or trust the notebook. <br />On GitHub, the HTML representation is unable to render, please try loading this page with nbviewer.org.</b></div><div class=\"sk-container\" hidden><div class=\"sk-item\"><div class=\"sk-estimator sk-toggleable\"><input class=\"sk-toggleable__control sk-hidden--visually\" id=\"sk-estimator-id-2\" type=\"checkbox\" checked><label for=\"sk-estimator-id-2\" class=\"sk-toggleable__label sk-toggleable__label-arrow\">RandomForestClassifier</label><div class=\"sk-toggleable__content\"><pre>RandomForestClassifier()</pre></div></div></div></div></div>"
      ],
      "text/plain": [
       "RandomForestClassifier()"
      ]
     },
     "execution_count": 17,
     "metadata": {},
     "output_type": "execute_result"
    }
   ],
   "source": [
    "from sklearn.ensemble import RandomForestClassifier\n",
    "rf = RandomForestClassifier()\n",
    "rf.fit(X_train, y_train)"
   ]
  },
  {
   "cell_type": "markdown",
   "id": "fa5238d4",
   "metadata": {},
   "source": [
    "<a name=\"toc_15456_5.3\"></a>\n",
    "### 5.3 Train XGBoost model"
   ]
  },
  {
   "cell_type": "code",
   "execution_count": 18,
   "id": "06ce8644",
   "metadata": {},
   "outputs": [
    {
     "data": {
      "text/html": [
       "<style>#sk-container-id-3 {color: black;background-color: white;}#sk-container-id-3 pre{padding: 0;}#sk-container-id-3 div.sk-toggleable {background-color: white;}#sk-container-id-3 label.sk-toggleable__label {cursor: pointer;display: block;width: 100%;margin-bottom: 0;padding: 0.3em;box-sizing: border-box;text-align: center;}#sk-container-id-3 label.sk-toggleable__label-arrow:before {content: \"▸\";float: left;margin-right: 0.25em;color: #696969;}#sk-container-id-3 label.sk-toggleable__label-arrow:hover:before {color: black;}#sk-container-id-3 div.sk-estimator:hover label.sk-toggleable__label-arrow:before {color: black;}#sk-container-id-3 div.sk-toggleable__content {max-height: 0;max-width: 0;overflow: hidden;text-align: left;background-color: #f0f8ff;}#sk-container-id-3 div.sk-toggleable__content pre {margin: 0.2em;color: black;border-radius: 0.25em;background-color: #f0f8ff;}#sk-container-id-3 input.sk-toggleable__control:checked~div.sk-toggleable__content {max-height: 200px;max-width: 100%;overflow: auto;}#sk-container-id-3 input.sk-toggleable__control:checked~label.sk-toggleable__label-arrow:before {content: \"▾\";}#sk-container-id-3 div.sk-estimator input.sk-toggleable__control:checked~label.sk-toggleable__label {background-color: #d4ebff;}#sk-container-id-3 div.sk-label input.sk-toggleable__control:checked~label.sk-toggleable__label {background-color: #d4ebff;}#sk-container-id-3 input.sk-hidden--visually {border: 0;clip: rect(1px 1px 1px 1px);clip: rect(1px, 1px, 1px, 1px);height: 1px;margin: -1px;overflow: hidden;padding: 0;position: absolute;width: 1px;}#sk-container-id-3 div.sk-estimator {font-family: monospace;background-color: #f0f8ff;border: 1px dotted black;border-radius: 0.25em;box-sizing: border-box;margin-bottom: 0.5em;}#sk-container-id-3 div.sk-estimator:hover {background-color: #d4ebff;}#sk-container-id-3 div.sk-parallel-item::after {content: \"\";width: 100%;border-bottom: 1px solid gray;flex-grow: 1;}#sk-container-id-3 div.sk-label:hover label.sk-toggleable__label {background-color: #d4ebff;}#sk-container-id-3 div.sk-serial::before {content: \"\";position: absolute;border-left: 1px solid gray;box-sizing: border-box;top: 0;bottom: 0;left: 50%;z-index: 0;}#sk-container-id-3 div.sk-serial {display: flex;flex-direction: column;align-items: center;background-color: white;padding-right: 0.2em;padding-left: 0.2em;position: relative;}#sk-container-id-3 div.sk-item {position: relative;z-index: 1;}#sk-container-id-3 div.sk-parallel {display: flex;align-items: stretch;justify-content: center;background-color: white;position: relative;}#sk-container-id-3 div.sk-item::before, #sk-container-id-3 div.sk-parallel-item::before {content: \"\";position: absolute;border-left: 1px solid gray;box-sizing: border-box;top: 0;bottom: 0;left: 50%;z-index: -1;}#sk-container-id-3 div.sk-parallel-item {display: flex;flex-direction: column;z-index: 1;position: relative;background-color: white;}#sk-container-id-3 div.sk-parallel-item:first-child::after {align-self: flex-end;width: 50%;}#sk-container-id-3 div.sk-parallel-item:last-child::after {align-self: flex-start;width: 50%;}#sk-container-id-3 div.sk-parallel-item:only-child::after {width: 0;}#sk-container-id-3 div.sk-dashed-wrapped {border: 1px dashed gray;margin: 0 0.4em 0.5em 0.4em;box-sizing: border-box;padding-bottom: 0.4em;background-color: white;}#sk-container-id-3 div.sk-label label {font-family: monospace;font-weight: bold;display: inline-block;line-height: 1.2em;}#sk-container-id-3 div.sk-label-container {text-align: center;}#sk-container-id-3 div.sk-container {/* jupyter's `normalize.less` sets `[hidden] { display: none; }` but bootstrap.min.css set `[hidden] { display: none !important; }` so we also need the `!important` here to be able to override the default hidden behavior on the sphinx rendered scikit-learn.org. See: https://github.com/scikit-learn/scikit-learn/issues/21755 */display: inline-block !important;position: relative;}#sk-container-id-3 div.sk-text-repr-fallback {display: none;}</style><div id=\"sk-container-id-3\" class=\"sk-top-container\"><div class=\"sk-text-repr-fallback\"><pre>XGBClassifier(base_score=None, booster=None, callbacks=None,\n",
       "              colsample_bylevel=None, colsample_bynode=None,\n",
       "              colsample_bytree=None, device=None, early_stopping_rounds=None,\n",
       "              enable_categorical=False, eval_metric=None, feature_types=None,\n",
       "              gamma=None, grow_policy=None, importance_type=None,\n",
       "              interaction_constraints=None, learning_rate=None, max_bin=None,\n",
       "              max_cat_threshold=None, max_cat_to_onehot=None,\n",
       "              max_delta_step=None, max_depth=None, max_leaves=None,\n",
       "              min_child_weight=None, missing=nan, monotone_constraints=None,\n",
       "              multi_strategy=None, n_estimators=None, n_jobs=None,\n",
       "              num_parallel_tree=None, random_state=None, ...)</pre><b>In a Jupyter environment, please rerun this cell to show the HTML representation or trust the notebook. <br />On GitHub, the HTML representation is unable to render, please try loading this page with nbviewer.org.</b></div><div class=\"sk-container\" hidden><div class=\"sk-item\"><div class=\"sk-estimator sk-toggleable\"><input class=\"sk-toggleable__control sk-hidden--visually\" id=\"sk-estimator-id-3\" type=\"checkbox\" checked><label for=\"sk-estimator-id-3\" class=\"sk-toggleable__label sk-toggleable__label-arrow\">XGBClassifier</label><div class=\"sk-toggleable__content\"><pre>XGBClassifier(base_score=None, booster=None, callbacks=None,\n",
       "              colsample_bylevel=None, colsample_bynode=None,\n",
       "              colsample_bytree=None, device=None, early_stopping_rounds=None,\n",
       "              enable_categorical=False, eval_metric=None, feature_types=None,\n",
       "              gamma=None, grow_policy=None, importance_type=None,\n",
       "              interaction_constraints=None, learning_rate=None, max_bin=None,\n",
       "              max_cat_threshold=None, max_cat_to_onehot=None,\n",
       "              max_delta_step=None, max_depth=None, max_leaves=None,\n",
       "              min_child_weight=None, missing=nan, monotone_constraints=None,\n",
       "              multi_strategy=None, n_estimators=None, n_jobs=None,\n",
       "              num_parallel_tree=None, random_state=None, ...)</pre></div></div></div></div></div>"
      ],
      "text/plain": [
       "XGBClassifier(base_score=None, booster=None, callbacks=None,\n",
       "              colsample_bylevel=None, colsample_bynode=None,\n",
       "              colsample_bytree=None, device=None, early_stopping_rounds=None,\n",
       "              enable_categorical=False, eval_metric=None, feature_types=None,\n",
       "              gamma=None, grow_policy=None, importance_type=None,\n",
       "              interaction_constraints=None, learning_rate=None, max_bin=None,\n",
       "              max_cat_threshold=None, max_cat_to_onehot=None,\n",
       "              max_delta_step=None, max_depth=None, max_leaves=None,\n",
       "              min_child_weight=None, missing=nan, monotone_constraints=None,\n",
       "              multi_strategy=None, n_estimators=None, n_jobs=None,\n",
       "              num_parallel_tree=None, random_state=None, ...)"
      ]
     },
     "execution_count": 18,
     "metadata": {},
     "output_type": "execute_result"
    }
   ],
   "source": [
    "from xgboost import XGBClassifier\n",
    "xgb = XGBClassifier()\n",
    "xgb.fit(X_train, y_train)"
   ]
  },
  {
   "cell_type": "markdown",
   "id": "739a78f3",
   "metadata": {},
   "source": [
    "Each model will learn from the training data (X_train and y_train) and be ready to make predictions on the testing data (X_test)."
   ]
  },
  {
   "cell_type": "markdown",
   "id": "ed0b1319",
   "metadata": {},
   "source": [
    "<a name=\"toc_15456_6\"></a>\n",
    "## 6 Model Evaluation"
   ]
  },
  {
   "cell_type": "markdown",
   "id": "cff23075",
   "metadata": {},
   "source": [
    "<a name=\"toc_15456_6.1\"></a>\n",
    "### 6.1 Make predictions"
   ]
  },
  {
   "cell_type": "code",
   "execution_count": 19,
   "id": "c6474f7a",
   "metadata": {},
   "outputs": [],
   "source": [
    "from sklearn.metrics import accuracy_score, precision_score, recall_score, f1_score\n",
    "\n",
    "y_pred_logreg = logreg.predict(X_test)\n",
    "y_pred_rf = rf.predict(X_test)\n",
    "y_pred_xgb = xgb.predict(X_test)"
   ]
  },
  {
   "cell_type": "markdown",
   "id": "7f9fba97",
   "metadata": {},
   "source": [
    "<a name=\"toc_15456_6.2\"></a>\n",
    "### 6.2 Evaluate models For Logistic Regression"
   ]
  },
  {
   "cell_type": "code",
   "execution_count": 21,
   "id": "6cddb1a3",
   "metadata": {},
   "outputs": [
    {
     "name": "stdout",
     "output_type": "stream",
     "text": [
      "Logistic Regression:\n",
      "Accuracy: 0.9991222218320986\n",
      "Precision: 0.8636363636363636\n",
      "Recall: 0.5816326530612245\n",
      "F1-score: 0.6951219512195121\n"
     ]
    }
   ],
   "source": [
    "print(\"Logistic Regression:\")\n",
    "print(\"Accuracy:\", accuracy_score(y_test, y_pred_logreg))\n",
    "print(\"Precision:\", precision_score(y_test, y_pred_logreg))\n",
    "print(\"Recall:\", recall_score(y_test, y_pred_logreg))\n",
    "print(\"F1-score:\", f1_score(y_test, y_pred_logreg))"
   ]
  },
  {
   "cell_type": "markdown",
   "id": "d54080c6",
   "metadata": {},
   "source": [
    "<a name=\"toc_15456_6.3\"></a>\n",
    "### 6.3  Evaluate models For Random Forest"
   ]
  },
  {
   "cell_type": "code",
   "execution_count": 22,
   "id": "214ed8da",
   "metadata": {},
   "outputs": [
    {
     "name": "stdout",
     "output_type": "stream",
     "text": [
      "Random Forest:\n",
      "Accuracy: 0.9995435553526912\n",
      "Precision: 0.9615384615384616\n",
      "Recall: 0.7653061224489796\n",
      "F1-score: 0.8522727272727273\n"
     ]
    }
   ],
   "source": [
    "print(\"Random Forest:\")\n",
    "print(\"Accuracy:\", accuracy_score(y_test, y_pred_rf))\n",
    "print(\"Precision:\", precision_score(y_test, y_pred_rf))\n",
    "print(\"Recall:\", recall_score(y_test, y_pred_rf))\n",
    "print(\"F1-score:\", f1_score(y_test, y_pred_rf))"
   ]
  },
  {
   "cell_type": "markdown",
   "id": "614dcf02",
   "metadata": {},
   "source": [
    "<a name=\"toc_15456_6.4\"></a>\n",
    "### 6.4  Evaluate models For XGBoost"
   ]
  },
  {
   "cell_type": "code",
   "execution_count": 23,
   "id": "25daf47e",
   "metadata": {},
   "outputs": [
    {
     "name": "stdout",
     "output_type": "stream",
     "text": [
      "XGBoost:\n",
      "Accuracy: 0.9995611109160493\n",
      "Precision: 0.9620253164556962\n",
      "Recall: 0.7755102040816326\n",
      "F1-score: 0.8587570621468926\n"
     ]
    }
   ],
   "source": [
    "print(\"XGBoost:\")\n",
    "print(\"Accuracy:\", accuracy_score(y_test, y_pred_xgb))\n",
    "print(\"Precision:\", precision_score(y_test, y_pred_xgb))\n",
    "print(\"Recall:\", recall_score(y_test, y_pred_xgb))\n",
    "print(\"F1-score:\", f1_score(y_test, y_pred_xgb))"
   ]
  },
  {
   "cell_type": "markdown",
   "id": "64439a3c",
   "metadata": {},
   "source": [
    "<a name=\"toc_15456_7\"></a>\n",
    "## 7 Comparing their Performance"
   ]
  },
  {
   "cell_type": "code",
   "execution_count": 25,
   "id": "bbd9fad4",
   "metadata": {},
   "outputs": [
    {
     "name": "stdout",
     "output_type": "stream",
     "text": [
      "Accuracy:\n",
      "Logistic Regression: 99.91%\n",
      "Random Forest: 99.95%\n",
      "XGBoost: 99.96%\n",
      "\n",
      "Precision:\n",
      "Logistic Regression: 86.36%\n",
      "Random Forest: 96.15%\n",
      "XGBoost: 96.20%\n",
      "\n",
      "Recall:\n",
      "Logistic Regression: 58.16%\n",
      "Random Forest: 76.53%\n",
      "XGBoost: 77.55%\n",
      "\n",
      "F1-score:\n",
      "Logistic Regression: 69.51%\n",
      "Random Forest: 85.23%\n",
      "XGBoost: 85.88%\n"
     ]
    }
   ],
   "source": [
    "print(\"Accuracy:\")\n",
    "print(f\"Logistic Regression: {accuracy_score(y_test, y_pred_logreg)*100:.2f}%\")\n",
    "print(f\"Random Forest: {accuracy_score(y_test, y_pred_rf)*100:.2f}%\")\n",
    "print(f\"XGBoost: {accuracy_score(y_test, y_pred_xgb)*100:.2f}%\")\n",
    "\n",
    "print(\"\\nPrecision:\")\n",
    "print(f\"Logistic Regression: {precision_score(y_test, y_pred_logreg)*100:.2f}%\")\n",
    "print(f\"Random Forest: {precision_score(y_test, y_pred_rf)*100:.2f}%\")\n",
    "print(f\"XGBoost: {precision_score(y_test, y_pred_xgb)*100:.2f}%\")\n",
    "\n",
    "print(\"\\nRecall:\")\n",
    "print(f\"Logistic Regression: {recall_score(y_test, y_pred_logreg)*100:.2f}%\")\n",
    "print(f\"Random Forest: {recall_score(y_test, y_pred_rf)*100:.2f}%\")\n",
    "print(f\"XGBoost: {recall_score(y_test, y_pred_xgb)*100:.2f}%\")\n",
    "\n",
    "print(\"\\nF1-score:\")\n",
    "print(f\"Logistic Regression: {f1_score(y_test, y_pred_logreg)*100:.2f}%\")\n",
    "print(f\"Random Forest: {f1_score(y_test, y_pred_rf)*100:.2f}%\")\n",
    "print(f\"XGBoost: {f1_score(y_test, y_pred_xgb)*100:.2f}%\")\n"
   ]
  },
  {
   "cell_type": "markdown",
   "id": "ec13085c",
   "metadata": {},
   "source": [
    "- Based on these metrics, XGBoost seems to be the best-performing model, with the highest accuracy, precision, recall, and F1-score.\n",
    "- The performance difference between Random Forest and XGBoost is relatively small, but XGBoost has a slight edge.\n",
    "- Logistic Regression, while having high accuracy, has lower precision, recall, and F1-score compared to the other two models."
   ]
  },
  {
   "cell_type": "markdown",
   "id": "0c27b372",
   "metadata": {},
   "source": [
    "<a name=\"toc_15456_8\"></a>\n",
    "## 8 Make predictions"
   ]
  },
  {
   "cell_type": "code",
   "execution_count": 27,
   "id": "09378b5f",
   "metadata": {},
   "outputs": [
    {
     "name": "stdout",
     "output_type": "stream",
     "text": [
      "[0.0133491  0.01828657 0.00945204 0.01410305 0.03013981 0.01347463\n",
      " 0.01091971 0.17710786 0.01636058 0.01254435 0.08113234 0.00977765\n",
      " 0.0383647  0.01095961 0.29652238 0.01187614 0.03291785 0.02749198\n",
      " 0.01121833 0.01559111 0.01335532 0.01551021 0.01138663 0.00713699\n",
      " 0.01293283 0.01214124 0.01573324 0.02656275 0.0142579  0.01939301]\n"
     ]
    }
   ],
   "source": [
    "feature_importances = xgb.feature_importances_\n",
    "print(feature_importances)"
   ]
  },
  {
   "cell_type": "markdown",
   "id": "bcaeb9fb",
   "metadata": {},
   "source": [
    "<a name=\"toc_15456_9\"></a>\n",
    "## 9 Visualize the Feature Importances"
   ]
  },
  {
   "cell_type": "code",
   "execution_count": 29,
   "id": "7f22ed54",
   "metadata": {},
   "outputs": [
    {
     "data": {
      "image/png": "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",
      "text/plain": [
       "<Figure size 1200x600 with 1 Axes>"
      ]
     },
     "metadata": {},
     "output_type": "display_data"
    }
   ],
   "source": [
    "#visualize the feature importances using a bar chart:\n",
    "import matplotlib.pyplot as plt\n",
    "\n",
    "feature_importances = xgb.feature_importances_\n",
    "feature_names = X_train.columns\n",
    "\n",
    "# Plot feature importances\n",
    "plt.figure(figsize=(12, 6))\n",
    "plt.bar(feature_names, feature_importances)\n",
    "plt.xlabel('Feature')\n",
    "plt.ylabel('Importance')\n",
    "plt.title('Feature Importances')\n",
    "plt.xticks(rotation=90, fontsize=8)\n",
    "plt.tight_layout()\n",
    "plt.show()\n"
   ]
  },
  {
   "cell_type": "code",
   "execution_count": null,
   "id": "26ebd6ce",
   "metadata": {},
   "outputs": [],
   "source": []
  }
 ],
 "metadata": {
  "kernelspec": {
   "display_name": "Python 3 (ipykernel)",
   "language": "python",
   "name": "python3"
  },
  "language_info": {
   "codemirror_mode": {
    "name": "ipython",
    "version": 3
   },
   "file_extension": ".py",
   "mimetype": "text/x-python",
   "name": "python",
   "nbconvert_exporter": "python",
   "pygments_lexer": "ipython3",
   "version": "3.11.3"
  }
 },
 "nbformat": 4,
 "nbformat_minor": 5
}
